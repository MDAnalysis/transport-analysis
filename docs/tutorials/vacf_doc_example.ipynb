{
 "cells": [
  {
   "cell_type": "markdown",
   "id": "ffdb2da6-f928-4a74-b321-c3fcc016b913",
   "metadata": {},
   "source": [
    "## Basic usage example from the VACF docs page"
   ]
  },
  {
   "cell_type": "code",
   "execution_count": 1,
   "id": "296147b9-166a-4dbd-9726-8fee6c719e44",
   "metadata": {},
   "outputs": [],
   "source": [
    "# imports\n",
    "import MDAnalysis as mda\n",
    "from transport_analysis.velocityautocorr import VelocityAutocorr\n",
    "\n",
    "# test data for this example\n",
    "from MDAnalysis.tests.datafiles import PRM_NCBOX, TRJ_NCBOX"
   ]
  },
  {
   "cell_type": "code",
   "execution_count": 2,
   "id": "15a5efca-ba4f-4fe1-8bab-42062ad7ab87",
   "metadata": {},
   "outputs": [],
   "source": [
    "u = mda.Universe(PRM_NCBOX, TRJ_NCBOX)\n",
    "ag = u.select_atoms(\"resname WAT and resid 1-5\")"
   ]
  },
  {
   "cell_type": "code",
   "execution_count": 3,
   "id": "1fe56632-4e5c-45ea-9789-0188fae0d992",
   "metadata": {},
   "outputs": [
    {
     "data": {
      "text/plain": [
       "array([275.62075467, -18.42008255, -23.94383428,  41.41415381,\n",
       "        -2.3164344 , -35.66393559, -22.66874897,  -3.97575003,\n",
       "         6.57888933,  -5.29065096])"
      ]
     },
     "execution_count": 3,
     "metadata": {},
     "output_type": "execute_result"
    }
   ],
   "source": [
    "wat_vacf = VelocityAutocorr(ag).run()\n",
    "wat_vacf.results.timeseries"
   ]
  }
 ],
 "metadata": {
  "kernelspec": {
   "display_name": "Python 3 (ipykernel)",
   "language": "python",
   "name": "python3"
  },
  "language_info": {
   "codemirror_mode": {
    "name": "ipython",
    "version": 3
   },
   "file_extension": ".py",
   "mimetype": "text/x-python",
   "name": "python",
   "nbconvert_exporter": "python",
   "pygments_lexer": "ipython3",
   "version": "3.11.3"
  }
 },
 "nbformat": 4,
 "nbformat_minor": 5
}

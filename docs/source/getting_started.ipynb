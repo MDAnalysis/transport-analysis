{
 "cells": [
  {
   "cell_type": "markdown",
   "id": "4b1de2d1-9b04-430d-95a8-df4b71f26095",
   "metadata": {},
   "source": [
    "# Getting Started"
   ]
  },
  {
   "cell_type": "markdown",
   "id": "68650515-a6da-4918-82c4-9d0d60b2fa67",
   "metadata": {},
   "source": [
    "Transport Analysis makes calculating transport properties simple and straightforward. Since Transport Analysis is powered by [MDAnalysis](https://www.mdanalysis.org/), we recommend that you understand MDAnalysis' [universes](https://userguide.mdanalysis.org/stable/universe.html), [atom groups](https://userguide.mdanalysis.org/stable/atomgroup.html), and [atom selection language](https://userguide.mdanalysis.org/stable/selections.html) before getting started."
   ]
  },
  {
   "cell_type": "markdown",
   "id": "5950619d-0ece-43f3-9a58-c430affc67e5",
   "metadata": {},
   "source": [
    "For a full list of the properties calculated, see the API documentation. If you have any questions or encounter any bugs, please raise an issue on [GitHub](https://github.com/MDAnalysis/transport-analysis)."
   ]
  }
 ],
 "metadata": {
  "kernelspec": {
   "display_name": "Python 3 (ipykernel)",
   "language": "python",
   "name": "python3"
  },
  "language_info": {
   "codemirror_mode": {
    "name": "ipython",
    "version": 3
   },
   "file_extension": ".py",
   "mimetype": "text/x-python",
   "name": "python",
   "nbconvert_exporter": "python",
   "pygments_lexer": "ipython3",
   "version": "3.11.3"
  }
 },
 "nbformat": 4,
 "nbformat_minor": 5
}
